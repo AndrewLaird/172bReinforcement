{
 "cells": [
  {
   "cell_type": "code",
   "execution_count": 1,
   "metadata": {},
   "outputs": [],
   "source": [
    "import numpy as np\n",
    "import gym\n",
    "import random\n",
    "import time\n",
    "from IPython.display import clear_output\n",
    "import matplotlib.pyplot as plt\n",
    "from PIL import Image"
   ]
  },
  {
   "cell_type": "code",
   "execution_count": 2,
   "metadata": {},
   "outputs": [],
   "source": [
    "import torch\n",
    "import torch.nn as nn\n",
    "import torch.optim as optim\n",
    "import torch.nn.functional as F\n",
    "import torchvision.transforms as T"
   ]
  },
  {
   "cell_type": "code",
   "execution_count": 3,
   "metadata": {},
   "outputs": [
    {
     "name": "stderr",
     "output_type": "stream",
     "text": [
      "/home/andrew/.local/lib/python3.6/site-packages/gym/envs/registration.py:14: PkgResourcesDeprecationWarning: Parameters to load are deprecated.  Call .resolve and .require separately.\n",
      "  result = entry_point.load(False)\n"
     ]
    }
   ],
   "source": [
    "env = gym.make(\"Breakout-v0\")"
   ]
  },
  {
   "cell_type": "code",
   "execution_count": 4,
   "metadata": {
    "scrolled": true
   },
   "outputs": [
    {
     "name": "stdout",
     "output_type": "stream",
     "text": [
      "0\n"
     ]
    }
   ],
   "source": [
    "print(env.action_space.sample())"
   ]
  },
  {
   "cell_type": "code",
   "execution_count": null,
   "metadata": {},
   "outputs": [],
   "source": [
    " class ReplayMemory:\n",
    "    #rotating buffer of size N\n",
    "    def __init__(self,N,batch_size=500):\n",
    "        self.memory = []\n",
    "        self.size = N\n",
    "        self.batch_size =batch_size\n",
    "    \n",
    "    def add(self,experience):\n",
    "        self.memory.append(experience)\n",
    "        if(len(self.memory) > self.size):\n",
    "            del self.memory[0]\n",
    "    \n",
    "    def replay(self):    \n",
    "        \n",
    "        # we want to keep some information about direction though \n",
    "        # so we will give 3 frames at a time\n",
    "        \n",
    "        buffer_size = len(self.memory)\n",
    "        output = np.array(self.memory)\n",
    "        \n",
    "        if(buffer_size < self.batch_size):\n",
    "            return []\n",
    "        \n",
    "        index = np.random.choice(np.arange(buffer_size),\n",
    "                                size = self.batch_size,\n",
    "                                replace = False)\n",
    "        return output[index]\n",
    "\n",
    "#Define what our experience looks like\n",
    "#[state,action,reward,next_state]"
   ]
  },
  {
   "cell_type": "code",
   "execution_count": null,
   "metadata": {},
   "outputs": [],
   "source": [
    "number_of_actions = 4\n",
    "number_of_stacked_frames = 5\n",
    "# DQN network from this tutorial \n",
    "# https://towardsdatascience.com/cartpole-introduction-to-reinforcement-learning-ed0eb5b58288\n",
    "# We will probably tweak this but our main interesting part is training this model\n",
    "class DQN(nn.Module):\n",
    "\n",
    "    def __init__(self):\n",
    "        super(DQN, self).__init__()\n",
    "        # 4 input image channel, 32 output channels, 3x3 square convolution\n",
    "        # kernel\n",
    "        self.conv1 = nn.Conv2d(1, 32, 3)\n",
    "        self.conv2 = nn.Conv2d(32, 16, 5)\n",
    "        # an affine operation: y = Wx + b\n",
    "        self.fc1 = nn.Linear(21904, 120)\n",
    "        self.fc2 = nn.Linear(120, 84)\n",
    "        self.fc3 = nn.Linear(84, number_of_actions)\n",
    "\n",
    "    def forward(self, x):\n",
    "        \n",
    "        # Max pooling over a (2, 2) window\n",
    "        x = F.max_pool2d(F.relu(self.conv1(x)), (2, 2))\n",
    "        # If the size is a square you can only specify a single number\n",
    "        x = F.max_pool2d(F.relu(self.conv2(x)), 2)\n",
    "        x = x.view(-1, self.num_flat_features(x))\n",
    "        x = F.relu(self.fc1(x))\n",
    "        x = F.relu(self.fc2(x))\n",
    "        x = self.fc3(x)\n",
    "        return x\n",
    "\n",
    "    def num_flat_features(self, x):\n",
    "        size = x.size()[1:]  # all dimensions except the batch dimension\n",
    "        num_features = 1\n",
    "        for s in size:\n",
    "            num_features *= s\n",
    "        return num_features"
   ]
  },
  {
   "cell_type": "code",
   "execution_count": null,
   "metadata": {},
   "outputs": [],
   "source": [
    "#cut off the infromation on the top and grayscale\n",
    "def format_frame(frame):\n",
    "    frame =np.mean(frame,axis=2)\n",
    "    frame = frame[35:-15]\n",
    "    return frame\n",
    "\n",
    "def get_most_likely_action(action_confidences):\n",
    "    #returns the index of the most likely action\n",
    "    return np.argmax(action_confidences)\n",
    "\n",
    "def to_onehot(index,size):\n",
    "    #makes a onehot array of size size\n",
    "    # with the index index 1 and all others 0\n",
    "    onehot = torch.zeros(size)\n",
    "    onehot[index] = 1\n",
    "    return onehot\n",
    "\n",
    "def format_frames(stacked_frames):\n",
    "    # turn a list of numpy arrays into \n",
    "    # a torch tensor\n",
    "    torch_frames = [torch.from_numpy(n).float() for n in stacked_frames]\n",
    "    #now stack them into one big tensor\n",
    "    output_tensor = torch.stack(torch_frames)\n",
    "    output_tensor = torch.reshape(output_tensor,(-1,1,160,160))\n",
    "    return output_tensor\n",
    "\n",
    "def get_best_action(model,stacked_frames):\n",
    "    #get our best action from our learner\n",
    "    #print(\"state given:\",state)\n",
    "    frames_tensor = format_frames(stacked_frames)\n",
    "    \n",
    "    all_actions = model.forward(frames_tensor).detach().numpy()\n",
    "    summed_actions = np.sum(all_actions,axis=0)\n",
    "    #action = int(action)\n",
    "    #print(\"State:\",state,\"Action:\",action)\n",
    "    #action = np.array(action)\n",
    "    action = get_most_likely_action(summed_actions)\n",
    "    return action"
   ]
  },
  {
   "cell_type": "code",
   "execution_count": null,
   "metadata": {},
   "outputs": [],
   "source": [
    "def learn_from_data(model,target,data,optim):\n",
    "    #stack all the frames,actions,rewards,next_frames together\n",
    "    \n",
    "    for experience in data:\n",
    "        #compute the loss\n",
    "        frames,actions,rewards,next_frames = experience\n",
    "        #make the action match what the network outputs\n",
    "        \n",
    "        frames = format_frames(frames)\n",
    "        next_frames = format_frames(next_frames)\n",
    "        \n",
    "        #belman equation\n",
    "        loss = 0\n",
    "        \n",
    "        chosen_actions_based_on_reward = model.forward(frames)\n",
    "        \n",
    "        expected_rewards = target.forward(next_frames).detach_()\n",
    "        \n",
    "            \n",
    "        reward_shape = (number_of_stacked_frames,number_of_actions)\n",
    "        \n",
    "        \n",
    "        reward_tensor = np.zeros(reward_shape)\n",
    "        \n",
    "        numpy_actions = np.array(actions,dtype=np.int)\n",
    "        \n",
    "        reward_tensor[np.arange(number_of_stacked_frames),numpy_actions] = rewards\n",
    "        \n",
    "        reward_tensor = torch.from_numpy(reward_tensor).float()\n",
    "\n",
    "        expected = expected_rewards + reward_tensor\n",
    "\n",
    "\n",
    "            \n",
    "        loss += F.l1_loss(chosen_actions_based_on_reward,expected)\n",
    "        #we want the chosen_action based on reward to match \n",
    "        #the reward of being in the next state and the reward given\n",
    "        \n",
    "        #print(reward)\n",
    "        \n",
    "        # must zero gradients before backprop\n",
    "        # for pytorch\n",
    "        optim.zero_grad()\n",
    "        model.zero_grad()\n",
    "        loss.backward()\n",
    "        optim.step()\n",
    "    return model"
   ]
  },
  {
   "cell_type": "code",
   "execution_count": null,
   "metadata": {},
   "outputs": [],
   "source": [
    "def select_action(exploration_rate,state,model):\n",
    "    uniform_random_variable= random.uniform(0,1)\n",
    "        \n",
    "    if(uniform_random_variable > exploration_rate):\n",
    "        \n",
    "        #state = torch.tensor([[state]])\n",
    "        #state=state.float()\n",
    "\n",
    "        action = get_best_action(model,state)\n",
    "        \n",
    "    else:\n",
    "        #other wise explore randomly\n",
    "        action = env.action_space.sample()\n",
    "    return action"
   ]
  },
  {
   "cell_type": "code",
   "execution_count": null,
   "metadata": {},
   "outputs": [],
   "source": [
    "def update_target(model,target):\n",
    "    target.load_state_dict(model.state_dict())\n",
    "    #print(\"model:\",model.state_dict())\n",
    "    #print(\"target:\",target.state_dict())\n",
    "    return target"
   ]
  },
  {
   "cell_type": "code",
   "execution_count": null,
   "metadata": {},
   "outputs": [],
   "source": [
    "# Run the training loop\n",
    "# Currently we do not have a target network but we could do that\n",
    "num_episodes = 1000000\n",
    "training_episodes = 10\n",
    "target_episodes = 15\n",
    "# network_update_epochs = 100 #use this if using a target network\n",
    "game_length = 10000\n",
    "\n",
    "# exploration rate, we want our network to explore \n",
    "# sometimes but not all the time, to do this\n",
    "# we use a decaying exploration rate\n",
    "exploration_rate = 1\n",
    "max_exploration_rate = 1\n",
    "min_exploration_rate = 0.01\n",
    "exploration_decay_rate = 0.01\n",
    "# this bit of code will determine the decay\n",
    "# exploration_rate = min_exploration_rate + \\\n",
    "#        (max_exploration_rate - min_exploration_rate) * np.exp(-exploration_decay_rate*episode)"
   ]
  },
  {
   "cell_type": "code",
   "execution_count": null,
   "metadata": {},
   "outputs": [
    {
     "name": "stdout",
     "output_type": "stream",
     "text": [
      "DQN(\n",
      "  (conv1): Conv2d(1, 32, kernel_size=(3, 3), stride=(1, 1))\n",
      "  (conv2): Conv2d(32, 16, kernel_size=(5, 5), stride=(1, 1))\n",
      "  (fc1): Linear(in_features=21904, out_features=120, bias=True)\n",
      "  (fc2): Linear(in_features=120, out_features=84, bias=True)\n",
      "  (fc3): Linear(in_features=84, out_features=4, bias=True)\n",
      ")\n"
     ]
    }
   ],
   "source": [
    "replay_memory = ReplayMemory(5000)\n",
    "dqn = DQN()\n",
    "target = DQN()\n",
    "optimizer = optim.SGD(dqn.parameters(),lr=.01)\n",
    "print(dqn)"
   ]
  },
  {
   "cell_type": "code",
   "execution_count": null,
   "metadata": {},
   "outputs": [],
   "source": [
    "target = update_target(dqn,target)\n",
    "\n",
    "def play_game(dqn,replay_memory,env,bounding_reward = True,show=False):\n",
    "    time.sleep(.1)\n",
    "    frame= env.reset()\n",
    "    frame = format_frame(frame)\n",
    "    \n",
    "    episode_reward = 0\n",
    "    tko_timer = 0\n",
    "    game = []\n",
    "    \n",
    "    action_frequency = number_of_stacked_frames\n",
    "    \n",
    "    stacked_frames = []\n",
    "    previous_frames = []\n",
    "    #stacked_rewards = 0\n",
    "    #stacked_frames.append(frame)\n",
    "    stacked_rewards = []\n",
    "    action = env.action_space.sample()#start with a random action\n",
    "    stacked_actions = []\n",
    "    stacked_actions.append(action)\n",
    "    \n",
    "    for step in range(game_length):\n",
    "        #if(show==True):\n",
    "        #    env.render()\n",
    "        #only make a new desision every 5 frames\n",
    "        \n",
    "        frame, reward, done, info = env.step(action)\n",
    "        \n",
    "        \n",
    "        frame = format_frame(frame)\n",
    "        stacked_frames.append(frame)\n",
    "        \n",
    "        stacked_actions.append(action)\n",
    "        \n",
    "        if(reward < 0 and bounding_reward):\n",
    "            reward = 0\n",
    "        \n",
    "        stacked_rewards.append(reward)\n",
    "        \n",
    "        \n",
    "        #start selecting a new action\n",
    "        if(step % action_frequency==0 and step != 0):\n",
    "            action = select_action(exploration_rate,stacked_frames,dqn)\n",
    "        \n",
    "       \n",
    "        \n",
    "        if(step % action_frequency==0 and step > action_frequency):\n",
    "            experience= [previous_frames,stacked_actions,stacked_rewards,stacked_frames]\n",
    "            replay_memory.add(experience)\n",
    "        \n",
    "        if(step % action_frequency==0):\n",
    "            previous_frames=stacked_frames\n",
    "            stacked_frames = []\n",
    "            stacked_rewards = []\n",
    "            stacked_actions = []\n",
    "        \n",
    "        #tracking how far we are getting\n",
    "        episode_reward += reward\n",
    "        \n",
    "        if(done):\n",
    "            # if we haven't gotten a positive reward \n",
    "            # in the last 20 steps \n",
    "            # or the game is over: stop\n",
    "            break\n",
    "    return episode_reward"
   ]
  },
  {
   "cell_type": "code",
   "execution_count": null,
   "metadata": {},
   "outputs": [],
   "source": [
    "def show_progress(rewards):\n",
    "    clear_output(wait=True)\n",
    "    plt.plot(rewards)\n",
    "    plt.show()\n",
    "    print(\"exploration_rate:\",exploration_rate)"
   ]
  },
  {
   "cell_type": "code",
   "execution_count": null,
   "metadata": {
    "scrolled": false
   },
   "outputs": [
    {
     "data": {
      "image/png": "[encoded data removed]",
      "text/plain": [
       "<Figure size 432x288 with 1 Axes>"
      ]
     },
     "metadata": {
      "needs_background": "light"
     },
     "output_type": "display_data"
    },
    {
     "name": "stdout",
     "output_type": "stream",
     "text": [
      "exploration_rate: 0.5016194507534953\n",
      "Training on Experience\n"
     ]
    }
   ],
   "source": [
    "rewards = []\n",
    "for episode in range(num_episodes):\n",
    "    print(\"Episode:\",episode)\n",
    "    \n",
    "    #the play_game will update replay_memory to include the game\n",
    "    episode_reward = play_game(dqn,replay_memory,env,bounding_reward =False,show=(episode%20==0))\n",
    "    \n",
    "    \n",
    "    #end of episode variable updating\n",
    "    exploration_rate = min_exploration_rate + \\\n",
    "        (max_exploration_rate - min_exploration_rate) * np.exp(-exploration_decay_rate*episode)\n",
    "    \n",
    "    rewards.append(episode_reward)\n",
    "    \n",
    "    show_progress(rewards)\n",
    "    \n",
    "    if(episode % training_episodes == 0 and episode != 0):\n",
    "        print(\"Training on Experience\")\n",
    "        dqn = learn_from_data(dqn,target,replay_memory.replay(),optimizer)\n",
    "    \n",
    "    if(episode%target_episodes ==0):\n",
    "        print(\"updating the target network\")\n",
    "        target = update_target(dqn,target)\n",
    "    "
   ]
  },
  {
   "cell_type": "markdown",
   "metadata": {},
   "source": [
    "mohamadt@uci.edu"
   ]
  },
  {
   "cell_type": "code",
   "execution_count": null,
   "metadata": {},
   "outputs": [],
   "source": []
  }
 ],
 "metadata": {
  "kernelspec": {
   "display_name": "Python 3",
   "language": "python",
   "name": "python3"
  },
  "language_info": {
   "codemirror_mode": {
    "name": "ipython",
    "version": 3
   },
   "file_extension": ".py",
   "mimetype": "text/x-python",
   "name": "python",
   "nbconvert_exporter": "python",
   "pygments_lexer": "ipython3",
   "version": "3.6.7"
  }
 },
 "nbformat": 4,
 "nbformat_minor": 2
}
