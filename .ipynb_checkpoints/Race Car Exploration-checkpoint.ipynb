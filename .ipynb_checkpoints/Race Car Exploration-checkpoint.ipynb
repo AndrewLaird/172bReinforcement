{
 "cells": [
  {
   "cell_type": "code",
   "execution_count": 1,
   "metadata": {},
   "outputs": [],
   "source": [
    "\n",
    "import numpy as np"
   ]
  },
  {
   "cell_type": "code",
   "execution_count": 2,
   "metadata": {},
   "outputs": [],
   "source": [
    "import gym\n",
    "\n",
    "env = gym.make(\"CarRacing-v0\")"
   ]
  },
  {
   "cell_type": "code",
   "execution_count": 3,
   "metadata": {},
   "outputs": [
    {
     "data": {
      "text/plain": [
       "array([0.09762701, 0.71518934, 0.60276335], dtype=float32)"
      ]
     },
     "execution_count": 3,
     "metadata": {},
     "output_type": "execute_result"
    }
   ],
   "source": [
    "env.action_space.sample()"
   ]
  },
  {
   "cell_type": "code",
   "execution_count": null,
   "metadata": {},
   "outputs": [],
   "source": [
    "action = [0,1.0,0]\n",
    "env.reset()\n",
    "frame = []\n",
    "for _ in range(3):\n",
    "    #env.render()\n",
    "    state, reward, done, info = env.step(action)\n",
    "    print(state.shape)\n",
    "    frame = state"
   ]
  },
  {
   "cell_type": "code",
   "execution_count": 8,
   "metadata": {},
   "outputs": [
    {
     "name": "stdout",
     "output_type": "stream",
     "text": [
      "Track generation: 949..1191 -> 242-tiles track\n",
      "(96, 96, 3)\n",
      "(96, 96, 3)\n",
      "(96, 96, 3)\n"
     ]
    }
   ],
   "source": [
    "def investigate_frame(frame):\n",
    "    print(\"frame shape:\",frame.shape)\n",
    "    #grayscale by taking the average of the pixel values\n",
    "    frame = np.mean(frame,axis=2)\n",
    "    print(\"after grayscale:\",frame.shape)"
   ]
  },
  {
   "cell_type": "code",
   "execution_count": null,
   "metadata": {},
   "outputs": [],
   "source": []
  }
 ],
 "metadata": {
  "kernelspec": {
   "display_name": "Python 3",
   "language": "python",
   "name": "python3"
  },
  "language_info": {
   "codemirror_mode": {
    "name": "ipython",
    "version": 3
   },
   "file_extension": ".py",
   "mimetype": "text/x-python",
   "name": "python",
   "nbconvert_exporter": "python",
   "pygments_lexer": "ipython3",
   "version": "3.6.6"
  }
 },
 "nbformat": 4,
 "nbformat_minor": 2
}
